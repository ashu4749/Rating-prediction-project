{
 "cells": [
  {
   "cell_type": "markdown",
   "id": "d4d20115",
   "metadata": {},
   "source": [
    "# Rating Prediction Project"
   ]
  },
  {
   "cell_type": "code",
   "execution_count": 1,
   "id": "5b0d0762",
   "metadata": {},
   "outputs": [],
   "source": [
    "#Importing the libraries\n",
    "import numpy as np\n",
    "import pandas as pd\n",
    "\n",
    "#Importing the libraries for visualization\n",
    "import matplotlib.pyplot as plt\n",
    "import seaborn as sns\n",
    "\n",
    "#Importing nltk Libraries\n",
    "import nltk\n",
    "from nltk.corpus import stopwords\n",
    "import re\n",
    "import string\n",
    "from nltk.tokenize import word_tokenize\n",
    "from nltk.corpus import wordnet\n",
    "from nltk.stem.wordnet import WordNetLemmatizer\n",
    "\n",
    "#Importing libraries for Evaluation Metrics\n",
    "from sklearn import metrics\n",
    "from sklearn.model_selection import cross_val_score\n",
    "from sklearn.model_selection import train_test_split\n",
    "from sklearn.metrics import accuracy_score, classification_report, confusion_matrix\n",
    "from sklearn.metrics import roc_curve, roc_auc_score, hamming_loss, log_loss\n",
    "\n",
    "#Importing library to remove Outliers\n",
    "from scipy.stats import zscore\n",
    "\n",
    "#Importing library for model building\n",
    "from sklearn.ensemble import RandomForestClassifier\n",
    "from sklearn.tree import DecisionTreeClassifier\n",
    "from xgboost import XGBClassifier\n",
    "from sklearn.linear_model import LogisticRegression\n",
    "from sklearn.ensemble import GradientBoostingClassifier\n",
    "from sklearn.ensemble import AdaBoostClassifier\n",
    "from sklearn.linear_model import SGDClassifier\n",
    "from sklearn.model_selection import GridSearchCV\n",
    "from sklearn.naive_bayes import MultinomialNB\n",
    "\n",
    "import warnings\n",
    "warnings.filterwarnings('ignore')"
   ]
  },
  {
   "cell_type": "code",
   "execution_count": 2,
   "id": "612967c7",
   "metadata": {},
   "outputs": [],
   "source": [
    "df=pd.read_csv(r\"C:\\Users\\Ashwini\\Documents\\Amazon_Flipkart_Reviews.csv\")"
   ]
  },
  {
   "cell_type": "code",
   "execution_count": 3,
   "id": "81ff8caa",
   "metadata": {},
   "outputs": [
    {
     "data": {
      "text/html": [
       "<div>\n",
       "<style scoped>\n",
       "    .dataframe tbody tr th:only-of-type {\n",
       "        vertical-align: middle;\n",
       "    }\n",
       "\n",
       "    .dataframe tbody tr th {\n",
       "        vertical-align: top;\n",
       "    }\n",
       "\n",
       "    .dataframe thead th {\n",
       "        text-align: right;\n",
       "    }\n",
       "</style>\n",
       "<table border=\"1\" class=\"dataframe\">\n",
       "  <thead>\n",
       "    <tr style=\"text-align: right;\">\n",
       "      <th></th>\n",
       "      <th>Unnamed: 0</th>\n",
       "      <th>Review Title</th>\n",
       "      <th>Review Text</th>\n",
       "      <th>Ratings</th>\n",
       "    </tr>\n",
       "  </thead>\n",
       "  <tbody>\n",
       "    <tr>\n",
       "      <th>0</th>\n",
       "      <td>0</td>\n",
       "      <td>Suitable for School kids</td>\n",
       "      <td>If you are a College student or a professional...</td>\n",
       "      <td>2.0 out of 5 stars</td>\n",
       "    </tr>\n",
       "    <tr>\n",
       "      <th>1</th>\n",
       "      <td>1</td>\n",
       "      <td>Misrepresentation on MS Office 2019 license - ...</td>\n",
       "      <td>Update after one month usage - MS Office 2019 ...</td>\n",
       "      <td>2.0 out of 5 stars</td>\n",
       "    </tr>\n",
       "    <tr>\n",
       "      <th>2</th>\n",
       "      <td>2</td>\n",
       "      <td>The sold me renewed laptop</td>\n",
       "      <td>It’s look like renewed laptop because laptop c...</td>\n",
       "      <td>2.0 out of 5 stars</td>\n",
       "    </tr>\n",
       "    <tr>\n",
       "      <th>3</th>\n",
       "      <td>3</td>\n",
       "      <td>Amazon dupes with specification/ battery sucks</td>\n",
       "      <td>&amp;nbsp;I had seen the specifications and bought...</td>\n",
       "      <td>2.0 out of 5 stars</td>\n",
       "    </tr>\n",
       "    <tr>\n",
       "      <th>4</th>\n",
       "      <td>4</td>\n",
       "      <td>Low Quality and Low Battery performance</td>\n",
       "      <td>Build Quality was Low, No match for the price....</td>\n",
       "      <td>2.0 out of 5 stars</td>\n",
       "    </tr>\n",
       "    <tr>\n",
       "      <th>...</th>\n",
       "      <td>...</td>\n",
       "      <td>...</td>\n",
       "      <td>...</td>\n",
       "      <td>...</td>\n",
       "    </tr>\n",
       "    <tr>\n",
       "      <th>35169</th>\n",
       "      <td>19392</td>\n",
       "      <td>Terrific purchase</td>\n",
       "      <td>Excellent monitor got it at great price of 720...</td>\n",
       "      <td>5</td>\n",
       "    </tr>\n",
       "    <tr>\n",
       "      <th>35170</th>\n",
       "      <td>19393</td>\n",
       "      <td>Worth the money</td>\n",
       "      <td>Good, but rate high when compared</td>\n",
       "      <td>4</td>\n",
       "    </tr>\n",
       "    <tr>\n",
       "      <th>35171</th>\n",
       "      <td>19394</td>\n",
       "      <td>Excellent</td>\n",
       "      <td>Super Q</td>\n",
       "      <td>5</td>\n",
       "    </tr>\n",
       "    <tr>\n",
       "      <th>35172</th>\n",
       "      <td>19395</td>\n",
       "      <td>Simply awesome</td>\n",
       "      <td>Super se uper</td>\n",
       "      <td>5</td>\n",
       "    </tr>\n",
       "    <tr>\n",
       "      <th>35173</th>\n",
       "      <td>19396</td>\n",
       "      <td>Awesome</td>\n",
       "      <td>Worthy Offer, monitor is good</td>\n",
       "      <td>5</td>\n",
       "    </tr>\n",
       "  </tbody>\n",
       "</table>\n",
       "<p>35174 rows × 4 columns</p>\n",
       "</div>"
      ],
      "text/plain": [
       "       Unnamed: 0                                       Review Title  \\\n",
       "0               0                           Suitable for School kids   \n",
       "1               1  Misrepresentation on MS Office 2019 license - ...   \n",
       "2               2                         The sold me renewed laptop   \n",
       "3               3     Amazon dupes with specification/ battery sucks   \n",
       "4               4            Low Quality and Low Battery performance   \n",
       "...           ...                                                ...   \n",
       "35169       19392                                  Terrific purchase   \n",
       "35170       19393                                    Worth the money   \n",
       "35171       19394                                          Excellent   \n",
       "35172       19395                                     Simply awesome   \n",
       "35173       19396                                            Awesome   \n",
       "\n",
       "                                             Review Text             Ratings  \n",
       "0      If you are a College student or a professional...  2.0 out of 5 stars  \n",
       "1      Update after one month usage - MS Office 2019 ...  2.0 out of 5 stars  \n",
       "2      It’s look like renewed laptop because laptop c...  2.0 out of 5 stars  \n",
       "3      &nbsp;I had seen the specifications and bought...  2.0 out of 5 stars  \n",
       "4      Build Quality was Low, No match for the price....  2.0 out of 5 stars  \n",
       "...                                                  ...                 ...  \n",
       "35169  Excellent monitor got it at great price of 720...                   5  \n",
       "35170                  Good, but rate high when compared                   4  \n",
       "35171                                            Super Q                   5  \n",
       "35172                                      Super se uper                   5  \n",
       "35173                      Worthy Offer, monitor is good                   5  \n",
       "\n",
       "[35174 rows x 4 columns]"
      ]
     },
     "execution_count": 3,
     "metadata": {},
     "output_type": "execute_result"
    }
   ],
   "source": [
    "df"
   ]
  },
  {
   "cell_type": "markdown",
   "id": "2ce93132",
   "metadata": {},
   "source": [
    "* I have collected data by scrapping from amazon and flipkart. Our index is Unnamed: 0, let's removed that."
   ]
  },
  {
   "cell_type": "markdown",
   "id": "bd838166",
   "metadata": {},
   "source": [
    "Feature Info:\n",
    "    \n",
    "    Review Title=Title of the review\n",
    "    \n",
    "    Review Text=Text content of the review\n",
    "    \n",
    "    Ratings=Ratings out of 5 Stars."
   ]
  },
  {
   "cell_type": "code",
   "execution_count": 4,
   "id": "c0791761",
   "metadata": {},
   "outputs": [],
   "source": [
    "#Removed Unnamed: 0 Column from the dataset\n",
    "df.drop(columns=['Unnamed: 0'], inplace=True)"
   ]
  },
  {
   "cell_type": "code",
   "execution_count": 5,
   "id": "b1c75978",
   "metadata": {},
   "outputs": [
    {
     "data": {
      "text/html": [
       "<div>\n",
       "<style scoped>\n",
       "    .dataframe tbody tr th:only-of-type {\n",
       "        vertical-align: middle;\n",
       "    }\n",
       "\n",
       "    .dataframe tbody tr th {\n",
       "        vertical-align: top;\n",
       "    }\n",
       "\n",
       "    .dataframe thead th {\n",
       "        text-align: right;\n",
       "    }\n",
       "</style>\n",
       "<table border=\"1\" class=\"dataframe\">\n",
       "  <thead>\n",
       "    <tr style=\"text-align: right;\">\n",
       "      <th></th>\n",
       "      <th>Review Title</th>\n",
       "      <th>Review Text</th>\n",
       "      <th>Ratings</th>\n",
       "    </tr>\n",
       "  </thead>\n",
       "  <tbody>\n",
       "    <tr>\n",
       "      <th>0</th>\n",
       "      <td>Suitable for School kids</td>\n",
       "      <td>If you are a College student or a professional...</td>\n",
       "      <td>2.0 out of 5 stars</td>\n",
       "    </tr>\n",
       "    <tr>\n",
       "      <th>1</th>\n",
       "      <td>Misrepresentation on MS Office 2019 license - ...</td>\n",
       "      <td>Update after one month usage - MS Office 2019 ...</td>\n",
       "      <td>2.0 out of 5 stars</td>\n",
       "    </tr>\n",
       "    <tr>\n",
       "      <th>2</th>\n",
       "      <td>The sold me renewed laptop</td>\n",
       "      <td>It’s look like renewed laptop because laptop c...</td>\n",
       "      <td>2.0 out of 5 stars</td>\n",
       "    </tr>\n",
       "    <tr>\n",
       "      <th>3</th>\n",
       "      <td>Amazon dupes with specification/ battery sucks</td>\n",
       "      <td>&amp;nbsp;I had seen the specifications and bought...</td>\n",
       "      <td>2.0 out of 5 stars</td>\n",
       "    </tr>\n",
       "    <tr>\n",
       "      <th>4</th>\n",
       "      <td>Low Quality and Low Battery performance</td>\n",
       "      <td>Build Quality was Low, No match for the price....</td>\n",
       "      <td>2.0 out of 5 stars</td>\n",
       "    </tr>\n",
       "    <tr>\n",
       "      <th>...</th>\n",
       "      <td>...</td>\n",
       "      <td>...</td>\n",
       "      <td>...</td>\n",
       "    </tr>\n",
       "    <tr>\n",
       "      <th>35169</th>\n",
       "      <td>Terrific purchase</td>\n",
       "      <td>Excellent monitor got it at great price of 720...</td>\n",
       "      <td>5</td>\n",
       "    </tr>\n",
       "    <tr>\n",
       "      <th>35170</th>\n",
       "      <td>Worth the money</td>\n",
       "      <td>Good, but rate high when compared</td>\n",
       "      <td>4</td>\n",
       "    </tr>\n",
       "    <tr>\n",
       "      <th>35171</th>\n",
       "      <td>Excellent</td>\n",
       "      <td>Super Q</td>\n",
       "      <td>5</td>\n",
       "    </tr>\n",
       "    <tr>\n",
       "      <th>35172</th>\n",
       "      <td>Simply awesome</td>\n",
       "      <td>Super se uper</td>\n",
       "      <td>5</td>\n",
       "    </tr>\n",
       "    <tr>\n",
       "      <th>35173</th>\n",
       "      <td>Awesome</td>\n",
       "      <td>Worthy Offer, monitor is good</td>\n",
       "      <td>5</td>\n",
       "    </tr>\n",
       "  </tbody>\n",
       "</table>\n",
       "<p>35174 rows × 3 columns</p>\n",
       "</div>"
      ],
      "text/plain": [
       "                                            Review Title  \\\n",
       "0                               Suitable for School kids   \n",
       "1      Misrepresentation on MS Office 2019 license - ...   \n",
       "2                             The sold me renewed laptop   \n",
       "3         Amazon dupes with specification/ battery sucks   \n",
       "4                Low Quality and Low Battery performance   \n",
       "...                                                  ...   \n",
       "35169                                  Terrific purchase   \n",
       "35170                                    Worth the money   \n",
       "35171                                          Excellent   \n",
       "35172                                     Simply awesome   \n",
       "35173                                            Awesome   \n",
       "\n",
       "                                             Review Text             Ratings  \n",
       "0      If you are a College student or a professional...  2.0 out of 5 stars  \n",
       "1      Update after one month usage - MS Office 2019 ...  2.0 out of 5 stars  \n",
       "2      It’s look like renewed laptop because laptop c...  2.0 out of 5 stars  \n",
       "3      &nbsp;I had seen the specifications and bought...  2.0 out of 5 stars  \n",
       "4      Build Quality was Low, No match for the price....  2.0 out of 5 stars  \n",
       "...                                                  ...                 ...  \n",
       "35169  Excellent monitor got it at great price of 720...                   5  \n",
       "35170                  Good, but rate high when compared                   4  \n",
       "35171                                            Super Q                   5  \n",
       "35172                                      Super se uper                   5  \n",
       "35173                      Worthy Offer, monitor is good                   5  \n",
       "\n",
       "[35174 rows x 3 columns]"
      ]
     },
     "execution_count": 5,
     "metadata": {},
     "output_type": "execute_result"
    }
   ],
   "source": [
    "df"
   ]
  },
  {
   "cell_type": "code",
   "execution_count": 6,
   "id": "4e0e31bb",
   "metadata": {},
   "outputs": [
    {
     "data": {
      "text/html": [
       "<div>\n",
       "<style scoped>\n",
       "    .dataframe tbody tr th:only-of-type {\n",
       "        vertical-align: middle;\n",
       "    }\n",
       "\n",
       "    .dataframe tbody tr th {\n",
       "        vertical-align: top;\n",
       "    }\n",
       "\n",
       "    .dataframe thead th {\n",
       "        text-align: right;\n",
       "    }\n",
       "</style>\n",
       "<table border=\"1\" class=\"dataframe\">\n",
       "  <thead>\n",
       "    <tr style=\"text-align: right;\">\n",
       "      <th></th>\n",
       "      <th>Review Title</th>\n",
       "      <th>Review Text</th>\n",
       "      <th>Ratings</th>\n",
       "    </tr>\n",
       "  </thead>\n",
       "  <tbody>\n",
       "    <tr>\n",
       "      <th>0</th>\n",
       "      <td>Suitable for School kids</td>\n",
       "      <td>If you are a College student or a professional...</td>\n",
       "      <td>2.0 out of 5 stars</td>\n",
       "    </tr>\n",
       "    <tr>\n",
       "      <th>1</th>\n",
       "      <td>Misrepresentation on MS Office 2019 license - ...</td>\n",
       "      <td>Update after one month usage - MS Office 2019 ...</td>\n",
       "      <td>2.0 out of 5 stars</td>\n",
       "    </tr>\n",
       "    <tr>\n",
       "      <th>2</th>\n",
       "      <td>The sold me renewed laptop</td>\n",
       "      <td>It’s look like renewed laptop because laptop c...</td>\n",
       "      <td>2.0 out of 5 stars</td>\n",
       "    </tr>\n",
       "    <tr>\n",
       "      <th>3</th>\n",
       "      <td>Amazon dupes with specification/ battery sucks</td>\n",
       "      <td>&amp;nbsp;I had seen the specifications and bought...</td>\n",
       "      <td>2.0 out of 5 stars</td>\n",
       "    </tr>\n",
       "    <tr>\n",
       "      <th>4</th>\n",
       "      <td>Low Quality and Low Battery performance</td>\n",
       "      <td>Build Quality was Low, No match for the price....</td>\n",
       "      <td>2.0 out of 5 stars</td>\n",
       "    </tr>\n",
       "  </tbody>\n",
       "</table>\n",
       "</div>"
      ],
      "text/plain": [
       "                                        Review Title  \\\n",
       "0                           Suitable for School kids   \n",
       "1  Misrepresentation on MS Office 2019 license - ...   \n",
       "2                         The sold me renewed laptop   \n",
       "3     Amazon dupes with specification/ battery sucks   \n",
       "4            Low Quality and Low Battery performance   \n",
       "\n",
       "                                         Review Text             Ratings  \n",
       "0  If you are a College student or a professional...  2.0 out of 5 stars  \n",
       "1  Update after one month usage - MS Office 2019 ...  2.0 out of 5 stars  \n",
       "2  It’s look like renewed laptop because laptop c...  2.0 out of 5 stars  \n",
       "3  &nbsp;I had seen the specifications and bought...  2.0 out of 5 stars  \n",
       "4  Build Quality was Low, No match for the price....  2.0 out of 5 stars  "
      ]
     },
     "execution_count": 6,
     "metadata": {},
     "output_type": "execute_result"
    }
   ],
   "source": [
    "df.head()"
   ]
  },
  {
   "cell_type": "markdown",
   "id": "29d2d67d",
   "metadata": {},
   "source": [
    "# Exploratory Data Analysis"
   ]
  },
  {
   "cell_type": "code",
   "execution_count": 7,
   "id": "ccff9cb4",
   "metadata": {},
   "outputs": [
    {
     "data": {
      "text/plain": [
       "(35174, 3)"
      ]
     },
     "execution_count": 7,
     "metadata": {},
     "output_type": "execute_result"
    }
   ],
   "source": [
    "# checking shapes \n",
    "df.shape"
   ]
  },
  {
   "cell_type": "code",
   "execution_count": 8,
   "id": "4743b57f",
   "metadata": {},
   "outputs": [
    {
     "name": "stdout",
     "output_type": "stream",
     "text": [
      "<class 'pandas.core.frame.DataFrame'>\n",
      "RangeIndex: 35174 entries, 0 to 35173\n",
      "Data columns (total 3 columns):\n",
      " #   Column        Non-Null Count  Dtype \n",
      "---  ------        --------------  ----- \n",
      " 0   Review Title  33263 non-null  object\n",
      " 1   Review Text   33251 non-null  object\n",
      " 2   Ratings       33264 non-null  object\n",
      "dtypes: object(3)\n",
      "memory usage: 824.5+ KB\n"
     ]
    }
   ],
   "source": [
    "#Checking the information\n",
    "df.info()"
   ]
  },
  {
   "cell_type": "code",
   "execution_count": 9,
   "id": "3df33fa6",
   "metadata": {},
   "outputs": [
    {
     "data": {
      "text/plain": [
       "Index(['Review Title', 'Review Text', 'Ratings'], dtype='object')"
      ]
     },
     "execution_count": 9,
     "metadata": {},
     "output_type": "execute_result"
    }
   ],
   "source": [
    "#Checking the columns names\n",
    "df.columns"
   ]
  },
  {
   "cell_type": "code",
   "execution_count": 10,
   "id": "589b31b4",
   "metadata": {},
   "outputs": [
    {
     "data": {
      "text/plain": [
       "Review Title     7727\n",
       "Review Text     17113\n",
       "Ratings            10\n",
       "dtype: int64"
      ]
     },
     "execution_count": 10,
     "metadata": {},
     "output_type": "execute_result"
    }
   ],
   "source": [
    "#Checking the unique values in the dataset\n",
    "df.nunique()"
   ]
  },
  {
   "cell_type": "code",
   "execution_count": 11,
   "id": "19762317",
   "metadata": {},
   "outputs": [
    {
     "data": {
      "text/plain": [
       "Review Title    object\n",
       "Review Text     object\n",
       "Ratings         object\n",
       "dtype: object"
      ]
     },
     "execution_count": 11,
     "metadata": {},
     "output_type": "execute_result"
    }
   ],
   "source": [
    "#Checking the data types\n",
    "df.dtypes"
   ]
  },
  {
   "cell_type": "markdown",
   "id": "a613419f",
   "metadata": {},
   "source": [
    "* All the columns is object data type."
   ]
  },
  {
   "cell_type": "code",
   "execution_count": 12,
   "id": "dc20065f",
   "metadata": {},
   "outputs": [
    {
     "data": {
      "text/plain": [
       "Review Title    1911\n",
       "Review Text     1923\n",
       "Ratings         1910\n",
       "dtype: int64"
      ]
     },
     "execution_count": 12,
     "metadata": {},
     "output_type": "execute_result"
    }
   ],
   "source": [
    "#Checking the null values\n",
    "df.isnull().sum()"
   ]
  },
  {
   "cell_type": "markdown",
   "id": "e21e5cc4",
   "metadata": {},
   "source": [
    "* In all the columns null value is present."
   ]
  },
  {
   "cell_type": "code",
   "execution_count": 13,
   "id": "81574abf",
   "metadata": {},
   "outputs": [
    {
     "data": {
      "image/png": "[encoded data removed]",
      "text/plain": [
       "<Figure size 864x720 with 2 Axes>"
      ]
     },
     "metadata": {
      "needs_background": "light"
     },
     "output_type": "display_data"
    }
   ],
   "source": [
    "plt.figure(figsize=(12,10))\n",
    "sns.heatmap(df.isnull())\n",
    "plt.show()"
   ]
  },
  {
   "cell_type": "code",
   "execution_count": 14,
   "id": "2aa74dae",
   "metadata": {},
   "outputs": [
    {
     "data": {
      "text/plain": [
       "5                     13204\n",
       "4                      4395\n",
       "1                      3339\n",
       "5.0 out of 5 stars     2189\n",
       "1.0 out of 5 stars     2176\n",
       "4.0 out of 5 stars     2034\n",
       "3.0 out of 5 stars     1870\n",
       "2.0 out of 5 stars     1728\n",
       "3                      1481\n",
       "2                       848\n",
       "Name: Ratings, dtype: int64"
      ]
     },
     "execution_count": 14,
     "metadata": {},
     "output_type": "execute_result"
    }
   ],
   "source": [
    "#Checking the count of Ratings\n",
    "df['Ratings'].value_counts()"
   ]
  },
  {
   "cell_type": "code",
   "execution_count": 15,
   "id": "07ef14a5",
   "metadata": {},
   "outputs": [
    {
     "data": {
      "text/plain": [
       "0    Wonderful\n",
       "dtype: object"
      ]
     },
     "execution_count": 15,
     "metadata": {},
     "output_type": "execute_result"
    }
   ],
   "source": [
    "#Checking the mode in Review title\n",
    "df['Review Title'].mode()"
   ]
  },
  {
   "cell_type": "markdown",
   "id": "a72c06f0",
   "metadata": {},
   "source": [
    "* In Review Title \"Wonderful\" is frequently repeated."
   ]
  },
  {
   "cell_type": "code",
   "execution_count": 16,
   "id": "ab8c6013",
   "metadata": {},
   "outputs": [
    {
     "data": {
      "text/plain": [
       "0    Good\n",
       "dtype: object"
      ]
     },
     "execution_count": 16,
     "metadata": {},
     "output_type": "execute_result"
    }
   ],
   "source": [
    "#Checking the mode in Review Text\n",
    "df['Review Text'].mode()"
   ]
  },
  {
   "cell_type": "markdown",
   "id": "cc58b920",
   "metadata": {},
   "source": [
    "* In Review Text \"Good\" is frequently repeated."
   ]
  },
  {
   "cell_type": "code",
   "execution_count": 17,
   "id": "3d7faf8d",
   "metadata": {},
   "outputs": [
    {
     "data": {
      "text/plain": [
       "0    5\n",
       "dtype: object"
      ]
     },
     "execution_count": 17,
     "metadata": {},
     "output_type": "execute_result"
    }
   ],
   "source": [
    "#Checking the mode in Ratings\n",
    "df['Ratings'].mode()"
   ]
  },
  {
   "cell_type": "code",
   "execution_count": 18,
   "id": "0e2e5b06",
   "metadata": {},
   "outputs": [],
   "source": [
    "#Lets replace the nan with mode of each columns\n",
    "df['Review Title']=df['Review Title'].fillna(df['Review Title'].mode()[0])\n",
    "df['Review Text']=df['Review Text'].fillna(df['Review Text'].mode()[0])\n",
    "df['Ratings']=df['Ratings'].fillna(df['Ratings'].mode()[0])"
   ]
  },
  {
   "cell_type": "code",
   "execution_count": 19,
   "id": "a82ff5e4",
   "metadata": {},
   "outputs": [
    {
     "data": {
      "text/plain": [
       "Review Title    0\n",
       "Review Text     0\n",
       "Ratings         0\n",
       "dtype: int64"
      ]
     },
     "execution_count": 19,
     "metadata": {},
     "output_type": "execute_result"
    }
   ],
   "source": [
    "#Checking the null value after replaced with mode\n",
    "df.isnull().sum()"
   ]
  },
  {
   "cell_type": "code",
   "execution_count": 20,
   "id": "98a5a533",
   "metadata": {},
   "outputs": [
    {
     "data": {
      "image/png": "[encoded data removed]",
      "text/plain": [
       "<Figure size 864x720 with 2 Axes>"
      ]
     },
     "metadata": {
      "needs_background": "light"
     },
     "output_type": "display_data"
    }
   ],
   "source": [
    "plt.figure(figsize=(12,10))\n",
    "sns.heatmap(df.isnull())\n",
    "plt.show()"
   ]
  },
  {
   "cell_type": "markdown",
   "id": "d4fd647a",
   "metadata": {},
   "source": [
    "* We have replaced the null value with mode. Now data looks good. There is no null value present in the dataset."
   ]
  },
  {
   "cell_type": "code",
   "execution_count": 21,
   "id": "85010667",
   "metadata": {},
   "outputs": [
    {
     "data": {
      "text/plain": [
       "array(['2.0 out of 5 stars', '5', '3.0 out of 5 stars',\n",
       "       '1.0 out of 5 stars', '5.0 out of 5 stars', '4.0 out of 5 stars',\n",
       "       '4', '3', '1', '2'], dtype=object)"
      ]
     },
     "execution_count": 21,
     "metadata": {},
     "output_type": "execute_result"
    }
   ],
   "source": [
    "#Checking the unique values in Ratings\n",
    "df['Ratings'].unique()"
   ]
  },
  {
   "cell_type": "code",
   "execution_count": 22,
   "id": "6ca01e0b",
   "metadata": {},
   "outputs": [],
   "source": [
    "#Let's remove the .0 out of 5 stars from the data the Ratings dataset\n",
    "df['Ratings'] = df['Ratings'].replace('1.0 out of 5 stars',1)\n",
    "df['Ratings'] = df['Ratings'].replace('2.0 out of 5 stars',2)\n",
    "df['Ratings'] = df['Ratings'].replace('3.0 out of 5 stars',3)\n",
    "df['Ratings'] = df['Ratings'].replace('4.0 out of 5 stars',4)\n",
    "df['Ratings'] = df['Ratings'].replace('5.0 out of 5 stars',5)"
   ]
  },
  {
   "cell_type": "code",
   "execution_count": 23,
   "id": "71139271",
   "metadata": {},
   "outputs": [],
   "source": [
    "#Let's change the Ratings data type to int\n",
    "df['Ratings']=df['Ratings'].astype('int')"
   ]
  },
  {
   "cell_type": "code",
   "execution_count": 24,
   "id": "078f7f8d",
   "metadata": {},
   "outputs": [
    {
     "data": {
      "text/plain": [
       "dtype('int32')"
      ]
     },
     "execution_count": 24,
     "metadata": {},
     "output_type": "execute_result"
    }
   ],
   "source": [
    "df['Ratings'].dtype"
   ]
  },
  {
   "cell_type": "code",
   "execution_count": 25,
   "id": "30636207",
   "metadata": {},
   "outputs": [
    {
     "data": {
      "text/html": [
       "<div>\n",
       "<style scoped>\n",
       "    .dataframe tbody tr th:only-of-type {\n",
       "        vertical-align: middle;\n",
       "    }\n",
       "\n",
       "    .dataframe tbody tr th {\n",
       "        vertical-align: top;\n",
       "    }\n",
       "\n",
       "    .dataframe thead th {\n",
       "        text-align: right;\n",
       "    }\n",
       "</style>\n",
       "<table border=\"1\" class=\"dataframe\">\n",
       "  <thead>\n",
       "    <tr style=\"text-align: right;\">\n",
       "      <th></th>\n",
       "      <th>Review Title</th>\n",
       "      <th>Review Text</th>\n",
       "      <th>Ratings</th>\n",
       "    </tr>\n",
       "  </thead>\n",
       "  <tbody>\n",
       "    <tr>\n",
       "      <th>15601</th>\n",
       "      <td>Great product</td>\n",
       "      <td>The quality of the keys are very good . The we...</td>\n",
       "      <td>5</td>\n",
       "    </tr>\n",
       "    <tr>\n",
       "      <th>34333</th>\n",
       "      <td>Best in the market!</td>\n",
       "      <td>Display travelled long distance 1000 km to rea...</td>\n",
       "      <td>5</td>\n",
       "    </tr>\n",
       "    <tr>\n",
       "      <th>21325</th>\n",
       "      <td>Great Phone @ affordable price</td>\n",
       "      <td>The look and feel of the phone was really good...</td>\n",
       "      <td>5</td>\n",
       "    </tr>\n",
       "    <tr>\n",
       "      <th>5319</th>\n",
       "      <td>Boat makes the best value Products that only l...</td>\n",
       "      <td>[BIG UPDATE]&lt;br&gt; IT BROKE ALONG THE RIGHT HING...</td>\n",
       "      <td>2</td>\n",
       "    </tr>\n",
       "    <tr>\n",
       "      <th>33959</th>\n",
       "      <td>Very Good</td>\n",
       "      <td>Excellent Product.</td>\n",
       "      <td>4</td>\n",
       "    </tr>\n",
       "    <tr>\n",
       "      <th>12337</th>\n",
       "      <td>Fabulous!</td>\n",
       "      <td>Mind blowing purchase.</td>\n",
       "      <td>5</td>\n",
       "    </tr>\n",
       "    <tr>\n",
       "      <th>7608</th>\n",
       "      <td>Not durable</td>\n",
       "      <td>Not durable, got faulty within 2 months</td>\n",
       "      <td>2</td>\n",
       "    </tr>\n",
       "    <tr>\n",
       "      <th>11262</th>\n",
       "      <td>Headphone is good but there is some problems</td>\n",
       "      <td>* Best Headphone for Seeing films in mobile,to...</td>\n",
       "      <td>4</td>\n",
       "    </tr>\n",
       "    <tr>\n",
       "      <th>12285</th>\n",
       "      <td>Best in the market!</td>\n",
       "      <td>Easy to use. Performance is good only. Designi...</td>\n",
       "      <td>5</td>\n",
       "    </tr>\n",
       "    <tr>\n",
       "      <th>9859</th>\n",
       "      <td>Wonderful</td>\n",
       "      <td>Good</td>\n",
       "      <td>5</td>\n",
       "    </tr>\n",
       "    <tr>\n",
       "      <th>25942</th>\n",
       "      <td>Great product</td>\n",
       "      <td>Nice</td>\n",
       "      <td>5</td>\n",
       "    </tr>\n",
       "    <tr>\n",
       "      <th>26055</th>\n",
       "      <td>Brilliant</td>\n",
       "      <td>Excellent. Review after 2yrs still working. 👍👍</td>\n",
       "      <td>5</td>\n",
       "    </tr>\n",
       "    <tr>\n",
       "      <th>14158</th>\n",
       "      <td>Crazy</td>\n",
       "      <td>Perfect for gamers and content creators. As a ...</td>\n",
       "      <td>5</td>\n",
       "    </tr>\n",
       "    <tr>\n",
       "      <th>32633</th>\n",
       "      <td>Worth the money</td>\n",
       "      <td>Gr8</td>\n",
       "      <td>4</td>\n",
       "    </tr>\n",
       "    <tr>\n",
       "      <th>23016</th>\n",
       "      <td>Useless product</td>\n",
       "      <td>Not super i don now not</td>\n",
       "      <td>1</td>\n",
       "    </tr>\n",
       "  </tbody>\n",
       "</table>\n",
       "</div>"
      ],
      "text/plain": [
       "                                            Review Title  \\\n",
       "15601                                      Great product   \n",
       "34333                                Best in the market!   \n",
       "21325                     Great Phone @ affordable price   \n",
       "5319   Boat makes the best value Products that only l...   \n",
       "33959                                          Very Good   \n",
       "12337                                          Fabulous!   \n",
       "7608                                         Not durable   \n",
       "11262       Headphone is good but there is some problems   \n",
       "12285                                Best in the market!   \n",
       "9859                                           Wonderful   \n",
       "25942                                      Great product   \n",
       "26055                                          Brilliant   \n",
       "14158                                              Crazy   \n",
       "32633                                    Worth the money   \n",
       "23016                                    Useless product   \n",
       "\n",
       "                                             Review Text  Ratings  \n",
       "15601  The quality of the keys are very good . The we...        5  \n",
       "34333  Display travelled long distance 1000 km to rea...        5  \n",
       "21325  The look and feel of the phone was really good...        5  \n",
       "5319   [BIG UPDATE]<br> IT BROKE ALONG THE RIGHT HING...        2  \n",
       "33959                                 Excellent Product.        4  \n",
       "12337                             Mind blowing purchase.        5  \n",
       "7608             Not durable, got faulty within 2 months        2  \n",
       "11262  * Best Headphone for Seeing films in mobile,to...        4  \n",
       "12285  Easy to use. Performance is good only. Designi...        5  \n",
       "9859                                                Good        5  \n",
       "25942                                               Nice        5  \n",
       "26055     Excellent. Review after 2yrs still working. 👍👍        5  \n",
       "14158  Perfect for gamers and content creators. As a ...        5  \n",
       "32633                                                Gr8        4  \n",
       "23016                            Not super i don now not        1  "
      ]
     },
     "execution_count": 25,
     "metadata": {},
     "output_type": "execute_result"
    }
   ],
   "source": [
    "#Checking the sample data\n",
    "df.sample(15)"
   ]
  },
  {
   "cell_type": "code",
   "execution_count": 26,
   "id": "81872184",
   "metadata": {},
   "outputs": [
    {
     "data": {
      "text/html": [
       "<div>\n",
       "<style scoped>\n",
       "    .dataframe tbody tr th:only-of-type {\n",
       "        vertical-align: middle;\n",
       "    }\n",
       "\n",
       "    .dataframe tbody tr th {\n",
       "        vertical-align: top;\n",
       "    }\n",
       "\n",
       "    .dataframe thead th {\n",
       "        text-align: right;\n",
       "    }\n",
       "</style>\n",
       "<table border=\"1\" class=\"dataframe\">\n",
       "  <thead>\n",
       "    <tr style=\"text-align: right;\">\n",
       "      <th></th>\n",
       "      <th>Review Title</th>\n",
       "      <th>Review Text</th>\n",
       "      <th>Ratings</th>\n",
       "      <th>Review</th>\n",
       "    </tr>\n",
       "  </thead>\n",
       "  <tbody>\n",
       "    <tr>\n",
       "      <th>0</th>\n",
       "      <td>Suitable for School kids</td>\n",
       "      <td>If you are a College student or a professional...</td>\n",
       "      <td>2</td>\n",
       "      <td>Suitable for School kids If you are a College ...</td>\n",
       "    </tr>\n",
       "    <tr>\n",
       "      <th>1</th>\n",
       "      <td>Misrepresentation on MS Office 2019 license - ...</td>\n",
       "      <td>Update after one month usage - MS Office 2019 ...</td>\n",
       "      <td>2</td>\n",
       "      <td>Misrepresentation on MS Office 2019 license - ...</td>\n",
       "    </tr>\n",
       "    <tr>\n",
       "      <th>2</th>\n",
       "      <td>The sold me renewed laptop</td>\n",
       "      <td>It’s look like renewed laptop because laptop c...</td>\n",
       "      <td>2</td>\n",
       "      <td>The sold me renewed laptop It’s look like rene...</td>\n",
       "    </tr>\n",
       "    <tr>\n",
       "      <th>3</th>\n",
       "      <td>Amazon dupes with specification/ battery sucks</td>\n",
       "      <td>&amp;nbsp;I had seen the specifications and bought...</td>\n",
       "      <td>2</td>\n",
       "      <td>Amazon dupes with specification/ battery sucks...</td>\n",
       "    </tr>\n",
       "    <tr>\n",
       "      <th>4</th>\n",
       "      <td>Low Quality and Low Battery performance</td>\n",
       "      <td>Build Quality was Low, No match for the price....</td>\n",
       "      <td>2</td>\n",
       "      <td>Low Quality and Low Battery performance Build ...</td>\n",
       "    </tr>\n",
       "    <tr>\n",
       "      <th>...</th>\n",
       "      <td>...</td>\n",
       "      <td>...</td>\n",
       "      <td>...</td>\n",
       "      <td>...</td>\n",
       "    </tr>\n",
       "    <tr>\n",
       "      <th>35169</th>\n",
       "      <td>Terrific purchase</td>\n",
       "      <td>Excellent monitor got it at great price of 720...</td>\n",
       "      <td>5</td>\n",
       "      <td>Terrific purchase Excellent monitor got it at ...</td>\n",
       "    </tr>\n",
       "    <tr>\n",
       "      <th>35170</th>\n",
       "      <td>Worth the money</td>\n",
       "      <td>Good, but rate high when compared</td>\n",
       "      <td>4</td>\n",
       "      <td>Worth the money Good, but rate high when compared</td>\n",
       "    </tr>\n",
       "    <tr>\n",
       "      <th>35171</th>\n",
       "      <td>Excellent</td>\n",
       "      <td>Super Q</td>\n",
       "      <td>5</td>\n",
       "      <td>Excellent Super Q</td>\n",
       "    </tr>\n",
       "    <tr>\n",
       "      <th>35172</th>\n",
       "      <td>Simply awesome</td>\n",
       "      <td>Super se uper</td>\n",
       "      <td>5</td>\n",
       "      <td>Simply awesome Super se uper</td>\n",
       "    </tr>\n",
       "    <tr>\n",
       "      <th>35173</th>\n",
       "      <td>Awesome</td>\n",
       "      <td>Worthy Offer, monitor is good</td>\n",
       "      <td>5</td>\n",
       "      <td>Awesome Worthy Offer, monitor is good</td>\n",
       "    </tr>\n",
       "  </tbody>\n",
       "</table>\n",
       "<p>35174 rows × 4 columns</p>\n",
       "</div>"
      ],
      "text/plain": [
       "                                            Review Title  \\\n",
       "0                               Suitable for School kids   \n",
       "1      Misrepresentation on MS Office 2019 license - ...   \n",
       "2                             The sold me renewed laptop   \n",
       "3         Amazon dupes with specification/ battery sucks   \n",
       "4                Low Quality and Low Battery performance   \n",
       "...                                                  ...   \n",
       "35169                                  Terrific purchase   \n",
       "35170                                    Worth the money   \n",
       "35171                                          Excellent   \n",
       "35172                                     Simply awesome   \n",
       "35173                                            Awesome   \n",
       "\n",
       "                                             Review Text  Ratings  \\\n",
       "0      If you are a College student or a professional...        2   \n",
       "1      Update after one month usage - MS Office 2019 ...        2   \n",
       "2      It’s look like renewed laptop because laptop c...        2   \n",
       "3      &nbsp;I had seen the specifications and bought...        2   \n",
       "4      Build Quality was Low, No match for the price....        2   \n",
       "...                                                  ...      ...   \n",
       "35169  Excellent monitor got it at great price of 720...        5   \n",
       "35170                  Good, but rate high when compared        4   \n",
       "35171                                            Super Q        5   \n",
       "35172                                      Super se uper        5   \n",
       "35173                      Worthy Offer, monitor is good        5   \n",
       "\n",
       "                                                  Review  \n",
       "0      Suitable for School kids If you are a College ...  \n",
       "1      Misrepresentation on MS Office 2019 license - ...  \n",
       "2      The sold me renewed laptop It’s look like rene...  \n",
       "3      Amazon dupes with specification/ battery sucks...  \n",
       "4      Low Quality and Low Battery performance Build ...  \n",
       "...                                                  ...  \n",
       "35169  Terrific purchase Excellent monitor got it at ...  \n",
       "35170  Worth the money Good, but rate high when compared  \n",
       "35171                                  Excellent Super Q  \n",
       "35172                       Simply awesome Super se uper  \n",
       "35173              Awesome Worthy Offer, monitor is good  \n",
       "\n",
       "[35174 rows x 4 columns]"
      ]
     },
     "execution_count": 26,
     "metadata": {},
     "output_type": "execute_result"
    }
   ],
   "source": [
    "#Let's combine the Review Title and Review Text\n",
    "df['Review']=df['Review Title'].map(str)+ ' '+df['Review Text']\n",
    "df"
   ]
  },
  {
   "cell_type": "markdown",
   "id": "eb62db02",
   "metadata": {},
   "source": [
    "* We have combined the Review Title and Review Text into single column named as Review. Let's drop the Review title and Review Text from the dataset."
   ]
  },
  {
   "cell_type": "code",
   "execution_count": 27,
   "id": "d322b5c8",
   "metadata": {},
   "outputs": [],
   "source": [
    "df.drop(columns=['Review Title','Review Text'],inplace=True)"
   ]
  },
  {
   "cell_type": "code",
   "execution_count": 28,
   "id": "120f087a",
   "metadata": {},
   "outputs": [
    {
     "data": {
      "text/html": [
       "<div>\n",
       "<style scoped>\n",
       "    .dataframe tbody tr th:only-of-type {\n",
       "        vertical-align: middle;\n",
       "    }\n",
       "\n",
       "    .dataframe tbody tr th {\n",
       "        vertical-align: top;\n",
       "    }\n",
       "\n",
       "    .dataframe thead th {\n",
       "        text-align: right;\n",
       "    }\n",
       "</style>\n",
       "<table border=\"1\" class=\"dataframe\">\n",
       "  <thead>\n",
       "    <tr style=\"text-align: right;\">\n",
       "      <th></th>\n",
       "      <th>Ratings</th>\n",
       "      <th>Review</th>\n",
       "    </tr>\n",
       "  </thead>\n",
       "  <tbody>\n",
       "    <tr>\n",
       "      <th>0</th>\n",
       "      <td>2</td>\n",
       "      <td>Suitable for School kids If you are a College ...</td>\n",
       "    </tr>\n",
       "    <tr>\n",
       "      <th>1</th>\n",
       "      <td>2</td>\n",
       "      <td>Misrepresentation on MS Office 2019 license - ...</td>\n",
       "    </tr>\n",
       "    <tr>\n",
       "      <th>2</th>\n",
       "      <td>2</td>\n",
       "      <td>The sold me renewed laptop It’s look like rene...</td>\n",
       "    </tr>\n",
       "    <tr>\n",
       "      <th>3</th>\n",
       "      <td>2</td>\n",
       "      <td>Amazon dupes with specification/ battery sucks...</td>\n",
       "    </tr>\n",
       "    <tr>\n",
       "      <th>4</th>\n",
       "      <td>2</td>\n",
       "      <td>Low Quality and Low Battery performance Build ...</td>\n",
       "    </tr>\n",
       "    <tr>\n",
       "      <th>5</th>\n",
       "      <td>2</td>\n",
       "      <td>Disappointed Below average display and low bui...</td>\n",
       "    </tr>\n",
       "    <tr>\n",
       "      <th>6</th>\n",
       "      <td>2</td>\n",
       "      <td>Display back light issue Display gone with 2 m...</td>\n",
       "    </tr>\n",
       "    <tr>\n",
       "      <th>7</th>\n",
       "      <td>2</td>\n",
       "      <td>Laptop is ok, battery is really bad Battery is...</td>\n",
       "    </tr>\n",
       "    <tr>\n",
       "      <th>8</th>\n",
       "      <td>2</td>\n",
       "      <td>No for professional works Blue screen while po...</td>\n",
       "    </tr>\n",
       "    <tr>\n",
       "      <th>9</th>\n",
       "      <td>2</td>\n",
       "      <td>monitor power issue monitor is not turning on ...</td>\n",
       "    </tr>\n",
       "  </tbody>\n",
       "</table>\n",
       "</div>"
      ],
      "text/plain": [
       "   Ratings                                             Review\n",
       "0        2  Suitable for School kids If you are a College ...\n",
       "1        2  Misrepresentation on MS Office 2019 license - ...\n",
       "2        2  The sold me renewed laptop It’s look like rene...\n",
       "3        2  Amazon dupes with specification/ battery sucks...\n",
       "4        2  Low Quality and Low Battery performance Build ...\n",
       "5        2  Disappointed Below average display and low bui...\n",
       "6        2  Display back light issue Display gone with 2 m...\n",
       "7        2  Laptop is ok, battery is really bad Battery is...\n",
       "8        2  No for professional works Blue screen while po...\n",
       "9        2  monitor power issue monitor is not turning on ..."
      ]
     },
     "execution_count": 28,
     "metadata": {},
     "output_type": "execute_result"
    }
   ],
   "source": [
    "df.head(10)"
   ]
  },
  {
   "cell_type": "code",
   "execution_count": 29,
   "id": "00fa36fc",
   "metadata": {},
   "outputs": [
    {
     "data": {
      "text/html": [
       "<div>\n",
       "<style scoped>\n",
       "    .dataframe tbody tr th:only-of-type {\n",
       "        vertical-align: middle;\n",
       "    }\n",
       "\n",
       "    .dataframe tbody tr th {\n",
       "        vertical-align: top;\n",
       "    }\n",
       "\n",
       "    .dataframe thead th {\n",
       "        text-align: right;\n",
       "    }\n",
       "</style>\n",
       "<table border=\"1\" class=\"dataframe\">\n",
       "  <thead>\n",
       "    <tr style=\"text-align: right;\">\n",
       "      <th></th>\n",
       "      <th>Ratings</th>\n",
       "      <th>Review</th>\n",
       "    </tr>\n",
       "  </thead>\n",
       "  <tbody>\n",
       "    <tr>\n",
       "      <th>0</th>\n",
       "      <td>2</td>\n",
       "      <td>Suitable for School kids If you are a College ...</td>\n",
       "    </tr>\n",
       "    <tr>\n",
       "      <th>1</th>\n",
       "      <td>2</td>\n",
       "      <td>Misrepresentation on MS Office 2019 license - ...</td>\n",
       "    </tr>\n",
       "    <tr>\n",
       "      <th>2</th>\n",
       "      <td>2</td>\n",
       "      <td>The sold me renewed laptop It’s look like rene...</td>\n",
       "    </tr>\n",
       "    <tr>\n",
       "      <th>3</th>\n",
       "      <td>2</td>\n",
       "      <td>Amazon dupes with specification/ battery sucks...</td>\n",
       "    </tr>\n",
       "    <tr>\n",
       "      <th>4</th>\n",
       "      <td>2</td>\n",
       "      <td>Low Quality and Low Battery performance Build ...</td>\n",
       "    </tr>\n",
       "    <tr>\n",
       "      <th>5</th>\n",
       "      <td>2</td>\n",
       "      <td>Disappointed Below average display and low bui...</td>\n",
       "    </tr>\n",
       "    <tr>\n",
       "      <th>6</th>\n",
       "      <td>2</td>\n",
       "      <td>Display back light issue Display gone with 2 m...</td>\n",
       "    </tr>\n",
       "    <tr>\n",
       "      <th>7</th>\n",
       "      <td>2</td>\n",
       "      <td>Laptop is ok, battery is really bad Battery is...</td>\n",
       "    </tr>\n",
       "    <tr>\n",
       "      <th>8</th>\n",
       "      <td>2</td>\n",
       "      <td>No for professional works Blue screen while po...</td>\n",
       "    </tr>\n",
       "  </tbody>\n",
       "</table>\n",
       "</div>"
      ],
      "text/plain": [
       "   Ratings                                             Review\n",
       "0        2  Suitable for School kids If you are a College ...\n",
       "1        2  Misrepresentation on MS Office 2019 license - ...\n",
       "2        2  The sold me renewed laptop It’s look like rene...\n",
       "3        2  Amazon dupes with specification/ battery sucks...\n",
       "4        2  Low Quality and Low Battery performance Build ...\n",
       "5        2  Disappointed Below average display and low bui...\n",
       "6        2  Display back light issue Display gone with 2 m...\n",
       "7        2  Laptop is ok, battery is really bad Battery is...\n",
       "8        2  No for professional works Blue screen while po..."
      ]
     },
     "execution_count": 29,
     "metadata": {},
     "output_type": "execute_result"
    }
   ],
   "source": [
    "df.head(9)"
   ]
  },
  {
   "cell_type": "code",
   "execution_count": 30,
   "id": "f193c4b5",
   "metadata": {},
   "outputs": [
    {
     "data": {
      "text/plain": [
       "0    Suitable for School kids If you are a College ...\n",
       "1    Misrepresentation on MS Office 2019 license - ...\n",
       "2    The sold me renewed laptop It’s look like rene...\n",
       "3    Amazon dupes with specification/ battery sucks...\n",
       "4    Low Quality and Low Battery performance Build ...\n",
       "5    Disappointed Below average display and low bui...\n",
       "6    Display back light issue Display gone with 2 m...\n",
       "7    Laptop is ok, battery is really bad Battery is...\n",
       "8    No for professional works Blue screen while po...\n",
       "9    monitor power issue monitor is not turning on ...\n",
       "Name: Review, dtype: object"
      ]
     },
     "execution_count": 30,
     "metadata": {},
     "output_type": "execute_result"
    }
   ],
   "source": [
    "#Checking the top 10 Review\n",
    "df['Review'][0:10]"
   ]
  },
  {
   "cell_type": "code",
   "execution_count": 31,
   "id": "b619f4a5",
   "metadata": {},
   "outputs": [],
   "source": [
    "#Let's apply the regular expression to make the contracted words to full form words, removing url and unwanted text\n",
    "def decontracted(text):\n",
    "    text = re.sub(r\"won't\", \"will not\", text)\n",
    "    text = re.sub(r\"don’t\", \"do not\", text)\n",
    "    text = re.sub(r\"can't\", \"can not\", text)\n",
    "    text = re.sub(r\"im \", \"i am\", text)\n",
    "    text = re.sub(r\"yo \", \"you \",text)\n",
    "    text = re.sub(r\"doesn’t\", \"does not\",text)\n",
    "    text = re.sub(r\"n\\'t\", \" not\", text)\n",
    "    text = re.sub(r\"\\'re\", \" are\", text)\n",
    "    text = re.sub(r\"\\'s\", \" is\", text)\n",
    "    text = re.sub(r\"\\'d\", \" would\", text)\n",
    "    text = re.sub(r\"\\'ll\", \" will\", text)\n",
    "    text = re.sub(r\"\\'t\", \" not\", text)\n",
    "    text = re.sub(r\"\\'ve\", \" have\", text)\n",
    "    text = re.sub(r\"\\'m\", \" am\", text)\n",
    "    text = re.sub(r\"<br>\", \" \", text)\n",
    "    text = re.sub(r'http\\S+', '', text) #removing urls\n",
    "    return text"
   ]
  },
  {
   "cell_type": "code",
   "execution_count": 32,
   "id": "de0cf103",
   "metadata": {},
   "outputs": [],
   "source": [
    "#Converting the Review to lower case\n",
    "df['Review']=df['Review'].apply(lambda x: x.lower())"
   ]
  },
  {
   "cell_type": "code",
   "execution_count": 33,
   "id": "ba86da67",
   "metadata": {},
   "outputs": [
    {
     "data": {
      "text/plain": [
       "0    suitable for school kids if you are a college ...\n",
       "1    misrepresentation on ms office 2019 license - ...\n",
       "2    the sold me renewed laptop it’s look like rene...\n",
       "3    amazon dupes with specification/ battery sucks...\n",
       "4    low quality and low battery performance build ...\n",
       "Name: Review, dtype: object"
      ]
     },
     "execution_count": 33,
     "metadata": {},
     "output_type": "execute_result"
    }
   ],
   "source": [
    "df['Review'].head() #We have converted to lower case"
   ]
  },
  {
   "cell_type": "code",
   "execution_count": 34,
   "id": "3b0ba78e",
   "metadata": {},
   "outputs": [],
   "source": [
    "#Removing the puntuation\n",
    "df['Review']=df['Review'].str.replace('[^\\w\\s\\n]','')"
   ]
  },
  {
   "cell_type": "code",
   "execution_count": 35,
   "id": "413f13b0",
   "metadata": {},
   "outputs": [
    {
     "data": {
      "text/plain": [
       "'the sold me renewed laptop its look like renewed laptop because laptop charging jack is loose and left side speaker sounds like its tear bad sound quality  and finger sensor quality look like 2011 touch phone of wing and any chinese phone touch waste of money and one more thing day by day amazon product quality getting poor'"
      ]
     },
     "execution_count": 35,
     "metadata": {},
     "output_type": "execute_result"
    }
   ],
   "source": [
    "df['Review'][2]"
   ]
  },
  {
   "cell_type": "code",
   "execution_count": 41,
   "id": "36c4b817",
   "metadata": {},
   "outputs": [
    {
     "data": {
      "text/plain": [
       "'misrepresentation on ms office 2019 license  it is one month trial update after one month usage  ms office 2019 preinstalled edition became unlicensed version within 30 days and refused to activate hp support shared their product sheet that stated that this laptop came only with a trial version of ms office 2019 now i am chasing seller appario retail to honour the commitmentbrbrbad experience after paying high price around 67000 for preinstalled genuine softwarebrbrother wise product has sleek looks superfast fingerprint scanner very good display very responsive touchpad decent but tinny speakers usb c and barrel plug charging options and under 10 second boot up ssd drive preloaded with win10 home and ms office not sure whether trial or full version drawbacks  weighs 142 kg base gets warm rather quickly and so does the power adapter decent for a college student'"
      ]
     },
     "execution_count": 41,
     "metadata": {},
     "output_type": "execute_result"
    }
   ],
   "source": [
    "df['Review'][1] #Removed the stop words, punctuation from review"
   ]
  },
  {
   "cell_type": "code",
   "execution_count": 42,
   "id": "f0e30d4f",
   "metadata": {},
   "outputs": [],
   "source": [
    "#Noice removal\n",
    "def scrub_words(text):\n",
    "    #remove html markup\n",
    "    text = re.sub(\"(<.*?>)\", \"\", text)\n",
    "    #remove non-ascii and digits\n",
    "    text = re.sub(\"(\\\\W)\", \" \", text)\n",
    "    text = re.sub(\"(\\\\d)\", \"\", text)\n",
    "    #remove white space\n",
    "    text = text.strip()\n",
    "    return text"
   ]
  },
  {
   "cell_type": "code",
   "execution_count": 43,
   "id": "18896080",
   "metadata": {},
   "outputs": [],
   "source": [
    "df['Review']=df['Review'].apply(lambda x:scrub_words(x))"
   ]
  },
  {
   "cell_type": "code",
   "execution_count": 44,
   "id": "d1f1dfb6",
   "metadata": {},
   "outputs": [
    {
     "data": {
      "text/plain": [
       "'suitable for school kids if you are a college student or a professional who depends heavily on laptop for pretty much everyday then  this laptop is not for you it hangs more often than it runs cannot install essential computer science software such as eclipse or android studio because then this laptop just diesbrbri took this laptop thinking that it will have good performance based on its configurationbrbrbut if you are someone who wants to attend online classes or just browse then you may go for this laptop'"
      ]
     },
     "execution_count": 44,
     "metadata": {},
     "output_type": "execute_result"
    }
   ],
   "source": [
    "df['Review'][0]"
   ]
  },
  {
   "cell_type": "code",
   "execution_count": 45,
   "id": "266f9c93",
   "metadata": {},
   "outputs": [],
   "source": [
    "#Checking the count of Word from Review\n",
    "df['Review_wordcount']=df['Review'].apply(lambda x: len(str(x).split(' ')))"
   ]
  },
  {
   "cell_type": "code",
   "execution_count": 46,
   "id": "cb098e24",
   "metadata": {},
   "outputs": [
    {
     "data": {
      "text/html": [
       "<div>\n",
       "<style scoped>\n",
       "    .dataframe tbody tr th:only-of-type {\n",
       "        vertical-align: middle;\n",
       "    }\n",
       "\n",
       "    .dataframe tbody tr th {\n",
       "        vertical-align: top;\n",
       "    }\n",
       "\n",
       "    .dataframe thead th {\n",
       "        text-align: right;\n",
       "    }\n",
       "</style>\n",
       "<table border=\"1\" class=\"dataframe\">\n",
       "  <thead>\n",
       "    <tr style=\"text-align: right;\">\n",
       "      <th></th>\n",
       "      <th>Ratings</th>\n",
       "      <th>Review</th>\n",
       "      <th>Review_wordcount</th>\n",
       "    </tr>\n",
       "  </thead>\n",
       "  <tbody>\n",
       "    <tr>\n",
       "      <th>0</th>\n",
       "      <td>2</td>\n",
       "      <td>suitable for school kids if you are a college ...</td>\n",
       "      <td>89</td>\n",
       "    </tr>\n",
       "    <tr>\n",
       "      <th>1</th>\n",
       "      <td>2</td>\n",
       "      <td>misrepresentation on ms office  license  it is...</td>\n",
       "      <td>144</td>\n",
       "    </tr>\n",
       "    <tr>\n",
       "      <th>2</th>\n",
       "      <td>2</td>\n",
       "      <td>the sold me renewed laptop its look like renew...</td>\n",
       "      <td>59</td>\n",
       "    </tr>\n",
       "    <tr>\n",
       "      <th>3</th>\n",
       "      <td>2</td>\n",
       "      <td>amazon dupes with specification battery sucks ...</td>\n",
       "      <td>37</td>\n",
       "    </tr>\n",
       "    <tr>\n",
       "      <th>4</th>\n",
       "      <td>2</td>\n",
       "      <td>low quality and low battery performance build ...</td>\n",
       "      <td>43</td>\n",
       "    </tr>\n",
       "    <tr>\n",
       "      <th>...</th>\n",
       "      <td>...</td>\n",
       "      <td>...</td>\n",
       "      <td>...</td>\n",
       "    </tr>\n",
       "    <tr>\n",
       "      <th>35169</th>\n",
       "      <td>5</td>\n",
       "      <td>terrific purchase excellent monitor got it at ...</td>\n",
       "      <td>16</td>\n",
       "    </tr>\n",
       "    <tr>\n",
       "      <th>35170</th>\n",
       "      <td>4</td>\n",
       "      <td>worth the money good but rate high when compared</td>\n",
       "      <td>9</td>\n",
       "    </tr>\n",
       "    <tr>\n",
       "      <th>35171</th>\n",
       "      <td>5</td>\n",
       "      <td>excellent super q</td>\n",
       "      <td>3</td>\n",
       "    </tr>\n",
       "    <tr>\n",
       "      <th>35172</th>\n",
       "      <td>5</td>\n",
       "      <td>simply awesome super se uper</td>\n",
       "      <td>5</td>\n",
       "    </tr>\n",
       "    <tr>\n",
       "      <th>35173</th>\n",
       "      <td>5</td>\n",
       "      <td>awesome worthy offer monitor is good</td>\n",
       "      <td>6</td>\n",
       "    </tr>\n",
       "  </tbody>\n",
       "</table>\n",
       "<p>35174 rows × 3 columns</p>\n",
       "</div>"
      ],
      "text/plain": [
       "       Ratings                                             Review  \\\n",
       "0            2  suitable for school kids if you are a college ...   \n",
       "1            2  misrepresentation on ms office  license  it is...   \n",
       "2            2  the sold me renewed laptop its look like renew...   \n",
       "3            2  amazon dupes with specification battery sucks ...   \n",
       "4            2  low quality and low battery performance build ...   \n",
       "...        ...                                                ...   \n",
       "35169        5  terrific purchase excellent monitor got it at ...   \n",
       "35170        4   worth the money good but rate high when compared   \n",
       "35171        5                                  excellent super q   \n",
       "35172        5                       simply awesome super se uper   \n",
       "35173        5               awesome worthy offer monitor is good   \n",
       "\n",
       "       Review_wordcount  \n",
       "0                    89  \n",
       "1                   144  \n",
       "2                    59  \n",
       "3                    37  \n",
       "4                    43  \n",
       "...                 ...  \n",
       "35169                16  \n",
       "35170                 9  \n",
       "35171                 3  \n",
       "35172                 5  \n",
       "35173                 6  \n",
       "\n",
       "[35174 rows x 3 columns]"
      ]
     },
     "execution_count": 46,
     "metadata": {},
     "output_type": "execute_result"
    }
   ],
   "source": [
    "df"
   ]
  },
  {
   "cell_type": "code",
   "execution_count": 47,
   "id": "953b1ffe",
   "metadata": {},
   "outputs": [
    {
     "data": {
      "image/png": "[encoded data removed]",
      "text/plain": [
       "<Figure size 864x720 with 1 Axes>"
      ]
     },
     "metadata": {
      "needs_background": "light"
     },
     "output_type": "display_data"
    }
   ],
   "source": [
    "#Visualizing the count of words using the distribution plot\n",
    "plt.figure(figsize=(12,10))\n",
    "sns.distplot(df['Review_wordcount'],color='Maroon',hist=True)\n",
    "plt.title(\"Count of Review Words\")\n",
    "plt.show()"
   ]
  },
  {
   "cell_type": "markdown",
   "id": "f329aad0",
   "metadata": {},
   "source": [
    "* In the above distribution plot we see that our words lie in the range 0-200. Most of the reviews are lengthy that can act as an Outliers."
   ]
  },
  {
   "cell_type": "code",
   "execution_count": 48,
   "id": "493c5537",
   "metadata": {},
   "outputs": [
    {
     "data": {
      "text/html": [
       "<div>\n",
       "<style scoped>\n",
       "    .dataframe tbody tr th:only-of-type {\n",
       "        vertical-align: middle;\n",
       "    }\n",
       "\n",
       "    .dataframe tbody tr th {\n",
       "        vertical-align: top;\n",
       "    }\n",
       "\n",
       "    .dataframe thead th {\n",
       "        text-align: right;\n",
       "    }\n",
       "</style>\n",
       "<table border=\"1\" class=\"dataframe\">\n",
       "  <thead>\n",
       "    <tr style=\"text-align: right;\">\n",
       "      <th></th>\n",
       "      <th>Ratings</th>\n",
       "      <th>Review</th>\n",
       "      <th>Review_wordcount</th>\n",
       "      <th>Review_countchar</th>\n",
       "    </tr>\n",
       "  </thead>\n",
       "  <tbody>\n",
       "    <tr>\n",
       "      <th>0</th>\n",
       "      <td>2</td>\n",
       "      <td>suitable for school kids if you are a college ...</td>\n",
       "      <td>89</td>\n",
       "      <td>513</td>\n",
       "    </tr>\n",
       "    <tr>\n",
       "      <th>1</th>\n",
       "      <td>2</td>\n",
       "      <td>misrepresentation on ms office  license  it is...</td>\n",
       "      <td>144</td>\n",
       "      <td>847</td>\n",
       "    </tr>\n",
       "    <tr>\n",
       "      <th>2</th>\n",
       "      <td>2</td>\n",
       "      <td>the sold me renewed laptop its look like renew...</td>\n",
       "      <td>59</td>\n",
       "      <td>321</td>\n",
       "    </tr>\n",
       "    <tr>\n",
       "      <th>3</th>\n",
       "      <td>2</td>\n",
       "      <td>amazon dupes with specification battery sucks ...</td>\n",
       "      <td>37</td>\n",
       "      <td>206</td>\n",
       "    </tr>\n",
       "    <tr>\n",
       "      <th>4</th>\n",
       "      <td>2</td>\n",
       "      <td>low quality and low battery performance build ...</td>\n",
       "      <td>43</td>\n",
       "      <td>253</td>\n",
       "    </tr>\n",
       "    <tr>\n",
       "      <th>...</th>\n",
       "      <td>...</td>\n",
       "      <td>...</td>\n",
       "      <td>...</td>\n",
       "      <td>...</td>\n",
       "    </tr>\n",
       "    <tr>\n",
       "      <th>35169</th>\n",
       "      <td>5</td>\n",
       "      <td>terrific purchase excellent monitor got it at ...</td>\n",
       "      <td>16</td>\n",
       "      <td>87</td>\n",
       "    </tr>\n",
       "    <tr>\n",
       "      <th>35170</th>\n",
       "      <td>4</td>\n",
       "      <td>worth the money good but rate high when compared</td>\n",
       "      <td>9</td>\n",
       "      <td>48</td>\n",
       "    </tr>\n",
       "    <tr>\n",
       "      <th>35171</th>\n",
       "      <td>5</td>\n",
       "      <td>excellent super q</td>\n",
       "      <td>3</td>\n",
       "      <td>17</td>\n",
       "    </tr>\n",
       "    <tr>\n",
       "      <th>35172</th>\n",
       "      <td>5</td>\n",
       "      <td>simply awesome super se uper</td>\n",
       "      <td>5</td>\n",
       "      <td>28</td>\n",
       "    </tr>\n",
       "    <tr>\n",
       "      <th>35173</th>\n",
       "      <td>5</td>\n",
       "      <td>awesome worthy offer monitor is good</td>\n",
       "      <td>6</td>\n",
       "      <td>36</td>\n",
       "    </tr>\n",
       "  </tbody>\n",
       "</table>\n",
       "<p>35174 rows × 4 columns</p>\n",
       "</div>"
      ],
      "text/plain": [
       "       Ratings                                             Review  \\\n",
       "0            2  suitable for school kids if you are a college ...   \n",
       "1            2  misrepresentation on ms office  license  it is...   \n",
       "2            2  the sold me renewed laptop its look like renew...   \n",
       "3            2  amazon dupes with specification battery sucks ...   \n",
       "4            2  low quality and low battery performance build ...   \n",
       "...        ...                                                ...   \n",
       "35169        5  terrific purchase excellent monitor got it at ...   \n",
       "35170        4   worth the money good but rate high when compared   \n",
       "35171        5                                  excellent super q   \n",
       "35172        5                       simply awesome super se uper   \n",
       "35173        5               awesome worthy offer monitor is good   \n",
       "\n",
       "       Review_wordcount  Review_countchar  \n",
       "0                    89               513  \n",
       "1                   144               847  \n",
       "2                    59               321  \n",
       "3                    37               206  \n",
       "4                    43               253  \n",
       "...                 ...               ...  \n",
       "35169                16                87  \n",
       "35170                 9                48  \n",
       "35171                 3                17  \n",
       "35172                 5                28  \n",
       "35173                 6                36  \n",
       "\n",
       "[35174 rows x 4 columns]"
      ]
     },
     "execution_count": 48,
     "metadata": {},
     "output_type": "execute_result"
    }
   ],
   "source": [
    "#Checking the count of character in reviews\n",
    "df['Review_countchar']=df['Review'].str.len()\n",
    "df"
   ]
  },
  {
   "cell_type": "code",
   "execution_count": 49,
   "id": "cff349ff",
   "metadata": {},
   "outputs": [
    {
     "data": {
      "image/png": "[encoded data removed]",
      "text/plain": [
       "<Figure size 864x720 with 1 Axes>"
      ]
     },
     "metadata": {
      "needs_background": "light"
     },
     "output_type": "display_data"
    }
   ],
   "source": [
    "#Visualizing the count of characters using the distribution plot\n",
    "plt.figure(figsize=(12,10))\n",
    "sns.distplot(df['Review_countchar'],color='red',hist=True,kde=True)\n",
    "plt.title(\"Count of Reviews Character\")\n",
    "plt.show()"
   ]
  },
  {
   "cell_type": "markdown",
   "id": "e896ec6c",
   "metadata": {},
   "source": [
    "* We see the most of the character lies in the range 0-100. Most of review's characters are lengthy."
   ]
  },
  {
   "cell_type": "markdown",
   "id": "15e06e5b",
   "metadata": {},
   "source": [
    "# Removing Outliers"
   ]
  },
  {
   "cell_type": "code",
   "execution_count": 50,
   "id": "19d99edd",
   "metadata": {},
   "outputs": [
    {
     "data": {
      "text/plain": [
       "(35174, 4)"
      ]
     },
     "execution_count": 50,
     "metadata": {},
     "output_type": "execute_result"
    }
   ],
   "source": [
    "df.shape #Checking the shape before removing the outliers"
   ]
  },
  {
   "cell_type": "code",
   "execution_count": 51,
   "id": "73776cb3",
   "metadata": {},
   "outputs": [
    {
     "data": {
      "text/plain": [
       "array([[1.15901315],\n",
       "       [2.31814554],\n",
       "       [0.52675912],\n",
       "       ...,\n",
       "       [0.6534484 ],\n",
       "       [0.61129813],\n",
       "       [0.59022299]])"
      ]
     },
     "execution_count": 51,
     "metadata": {},
     "output_type": "execute_result"
    }
   ],
   "source": [
    "from scipy import stats\n",
    "z_score=zscore(df[['Review_wordcount']])\n",
    "outliers=np.abs(z_score)\n",
    "outliers"
   ]
  },
  {
   "cell_type": "code",
   "execution_count": 52,
   "id": "9a9e1afa",
   "metadata": {},
   "outputs": [],
   "source": [
    "df_new= (outliers < 3).all(axis = 1)\n",
    "df=df[df_new]"
   ]
  },
  {
   "cell_type": "code",
   "execution_count": 54,
   "id": "b8b3b3b8",
   "metadata": {},
   "outputs": [
    {
     "data": {
      "text/plain": [
       "(34600, 4)"
      ]
     },
     "execution_count": 54,
     "metadata": {},
     "output_type": "execute_result"
    }
   ],
   "source": [
    "df.shape"
   ]
  },
  {
   "cell_type": "code",
   "execution_count": 55,
   "id": "5c692bc3",
   "metadata": {},
   "outputs": [
    {
     "data": {
      "text/plain": [
       "1.6"
      ]
     },
     "execution_count": 55,
     "metadata": {},
     "output_type": "execute_result"
    }
   ],
   "source": [
    "outlier=((35174-34611)/35174)*100\n",
    "round(outlier,2)"
   ]
  },
  {
   "cell_type": "code",
   "execution_count": 56,
   "id": "d7e685ec",
   "metadata": {},
   "outputs": [
    {
     "data": {
      "text/plain": [
       "1.6"
      ]
     },
     "execution_count": 56,
     "metadata": {},
     "output_type": "execute_result"
    }
   ],
   "source": [
    "outlier=((35174-34611)/35174)*100\n",
    "round(outlier,2)"
   ]
  },
  {
   "cell_type": "markdown",
   "id": "417427e7",
   "metadata": {},
   "source": [
    "* 2% of data removed during the outliers removal process."
   ]
  },
  {
   "cell_type": "code",
   "execution_count": 57,
   "id": "8227c57b",
   "metadata": {},
   "outputs": [
    {
     "data": {
      "image/png": "[encoded data removed]",
      "text/plain": [
       "<Figure size 864x720 with 1 Axes>"
      ]
     },
     "metadata": {
      "needs_background": "light"
     },
     "output_type": "display_data"
    }
   ],
   "source": [
    "#Visualizing the count of words using the distribution plot after removing the outliers\n",
    "plt.figure(figsize=(12,10))\n",
    "sns.distplot(df['Review_wordcount'],color='Maroon',hist=True,hist_kws={'edgecolor':'black'})\n",
    "plt.title(\"Count of Review Words\")\n",
    "plt.show()"
   ]
  },
  {
   "cell_type": "code",
   "execution_count": 58,
   "id": "495e1583",
   "metadata": {},
   "outputs": [
    {
     "data": {
      "image/png": "[encoded data removed]",
      "text/plain": [
       "<Figure size 864x720 with 1 Axes>"
      ]
     },
     "metadata": {
      "needs_background": "light"
     },
     "output_type": "display_data"
    }
   ],
   "source": [
    "#Visualizing the count of characters using the distribution plot after removing the outliers\n",
    "plt.figure(figsize=(12,10))\n",
    "sns.distplot(df['Review_countchar'],color='red',hist=True,kde=True,hist_kws={'edgecolor':'black'})\n",
    "plt.title(\"Count of Reviews Character\")\n",
    "plt.show()"
   ]
  },
  {
   "cell_type": "markdown",
   "id": "a8042c0e",
   "metadata": {},
   "source": [
    "* We clearly see that we have removed the outliers from the Review."
   ]
  },
  {
   "cell_type": "code",
   "execution_count": null,
   "id": "86e13381",
   "metadata": {},
   "outputs": [],
   "source": []
  }
 ],
 "metadata": {
  "kernelspec": {
   "display_name": "Python 3",
   "language": "python",
   "name": "python3"
  },
  "language_info": {
   "codemirror_mode": {
    "name": "ipython",
    "version": 3
   },
   "file_extension": ".py",
   "mimetype": "text/x-python",
   "name": "python",
   "nbconvert_exporter": "python",
   "pygments_lexer": "ipython3",
   "version": "3.8.8"
  }
 },
 "nbformat": 4,
 "nbformat_minor": 5
}
